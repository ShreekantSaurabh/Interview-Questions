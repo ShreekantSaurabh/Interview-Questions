{
 "cells": [
  {
   "cell_type": "markdown",
   "metadata": {},
   "source": [
    "# Importing libraries and dataset"
   ]
  },
  {
   "cell_type": "code",
   "execution_count": 4,
   "metadata": {
    "collapsed": true
   },
   "outputs": [],
   "source": [
    "import pandas as pd\n",
    "import numpy as np\n",
    "import matplotlib.pyplot as plt\n",
    "import seaborn as sns\n",
    "import datetime as dt\n",
    "import itertools"
   ]
  },
  {
   "cell_type": "code",
   "execution_count": 5,
   "metadata": {
    "collapsed": true
   },
   "outputs": [],
   "source": [
    "df_train = pd.read_csv('train.csv')\n",
    "df_test = pd.read_csv('test.csv')\n",
    "df_combined = pd.concat([df_train, df_test])"
   ]
  },
  {
   "cell_type": "markdown",
   "metadata": {},
   "source": [
    "# Exploratory Data Analysis"
   ]
  },
  {
   "cell_type": "code",
   "execution_count": 6,
   "metadata": {},
   "outputs": [
    {
     "data": {
      "text/html": [
       "<div>\n",
       "<style>\n",
       "    .dataframe thead tr:only-child th {\n",
       "        text-align: right;\n",
       "    }\n",
       "\n",
       "    .dataframe thead th {\n",
       "        text-align: left;\n",
       "    }\n",
       "\n",
       "    .dataframe tbody tr th {\n",
       "        vertical-align: top;\n",
       "    }\n",
       "</style>\n",
       "<table border=\"1\" class=\"dataframe\">\n",
       "  <thead>\n",
       "    <tr style=\"text-align: right;\">\n",
       "      <th></th>\n",
       "      <th>'ID</th>\n",
       "      <th>Approved</th>\n",
       "      <th>City_Category</th>\n",
       "      <th>City_Code</th>\n",
       "      <th>Contacted</th>\n",
       "      <th>Customer_Existing_Primary_Bank_Code</th>\n",
       "      <th>DOB</th>\n",
       "      <th>EMI</th>\n",
       "      <th>Employer_Category1</th>\n",
       "      <th>Employer_Category2</th>\n",
       "      <th>...</th>\n",
       "      <th>Gender</th>\n",
       "      <th>Interest_Rate</th>\n",
       "      <th>Lead_Creation_Date</th>\n",
       "      <th>Loan_Amount</th>\n",
       "      <th>Loan_Period</th>\n",
       "      <th>Monthly_Income</th>\n",
       "      <th>Primary_Bank_Type</th>\n",
       "      <th>Source</th>\n",
       "      <th>Source_Category</th>\n",
       "      <th>Var1</th>\n",
       "    </tr>\n",
       "  </thead>\n",
       "  <tbody>\n",
       "    <tr>\n",
       "      <th>0</th>\n",
       "      <td>APPC90493171225</td>\n",
       "      <td>0.0</td>\n",
       "      <td>A</td>\n",
       "      <td>C10001</td>\n",
       "      <td>N</td>\n",
       "      <td>B001</td>\n",
       "      <td>23/07/79</td>\n",
       "      <td>NaN</td>\n",
       "      <td>A</td>\n",
       "      <td>4.0</td>\n",
       "      <td>...</td>\n",
       "      <td>Female</td>\n",
       "      <td>NaN</td>\n",
       "      <td>15/07/16</td>\n",
       "      <td>NaN</td>\n",
       "      <td>NaN</td>\n",
       "      <td>2000.0</td>\n",
       "      <td>P</td>\n",
       "      <td>S122</td>\n",
       "      <td>G</td>\n",
       "      <td>0</td>\n",
       "    </tr>\n",
       "    <tr>\n",
       "      <th>1</th>\n",
       "      <td>APPD40611263344</td>\n",
       "      <td>0.0</td>\n",
       "      <td>A</td>\n",
       "      <td>C10003</td>\n",
       "      <td>Y</td>\n",
       "      <td>B002</td>\n",
       "      <td>07/12/86</td>\n",
       "      <td>953.0</td>\n",
       "      <td>C</td>\n",
       "      <td>1.0</td>\n",
       "      <td>...</td>\n",
       "      <td>Male</td>\n",
       "      <td>13.25</td>\n",
       "      <td>04/07/16</td>\n",
       "      <td>20000.0</td>\n",
       "      <td>2.0</td>\n",
       "      <td>3500.0</td>\n",
       "      <td>P</td>\n",
       "      <td>S122</td>\n",
       "      <td>G</td>\n",
       "      <td>10</td>\n",
       "    </tr>\n",
       "    <tr>\n",
       "      <th>2</th>\n",
       "      <td>APPE70289249423</td>\n",
       "      <td>0.0</td>\n",
       "      <td>C</td>\n",
       "      <td>C10125</td>\n",
       "      <td>Y</td>\n",
       "      <td>B003</td>\n",
       "      <td>10/12/82</td>\n",
       "      <td>NaN</td>\n",
       "      <td>C</td>\n",
       "      <td>4.0</td>\n",
       "      <td>...</td>\n",
       "      <td>Male</td>\n",
       "      <td>NaN</td>\n",
       "      <td>19/07/16</td>\n",
       "      <td>45000.0</td>\n",
       "      <td>4.0</td>\n",
       "      <td>2250.0</td>\n",
       "      <td>G</td>\n",
       "      <td>S143</td>\n",
       "      <td>B</td>\n",
       "      <td>0</td>\n",
       "    </tr>\n",
       "    <tr>\n",
       "      <th>3</th>\n",
       "      <td>APPF80273865537</td>\n",
       "      <td>0.0</td>\n",
       "      <td>C</td>\n",
       "      <td>C10477</td>\n",
       "      <td>Y</td>\n",
       "      <td>B003</td>\n",
       "      <td>30/01/89</td>\n",
       "      <td>NaN</td>\n",
       "      <td>A</td>\n",
       "      <td>4.0</td>\n",
       "      <td>...</td>\n",
       "      <td>Male</td>\n",
       "      <td>NaN</td>\n",
       "      <td>09/07/16</td>\n",
       "      <td>92000.0</td>\n",
       "      <td>5.0</td>\n",
       "      <td>3500.0</td>\n",
       "      <td>G</td>\n",
       "      <td>S143</td>\n",
       "      <td>B</td>\n",
       "      <td>7</td>\n",
       "    </tr>\n",
       "    <tr>\n",
       "      <th>4</th>\n",
       "      <td>APPG60994436641</td>\n",
       "      <td>0.0</td>\n",
       "      <td>A</td>\n",
       "      <td>C10002</td>\n",
       "      <td>Y</td>\n",
       "      <td>B001</td>\n",
       "      <td>19/04/85</td>\n",
       "      <td>NaN</td>\n",
       "      <td>A</td>\n",
       "      <td>4.0</td>\n",
       "      <td>...</td>\n",
       "      <td>Male</td>\n",
       "      <td>NaN</td>\n",
       "      <td>20/07/16</td>\n",
       "      <td>50000.0</td>\n",
       "      <td>2.0</td>\n",
       "      <td>10000.0</td>\n",
       "      <td>P</td>\n",
       "      <td>S134</td>\n",
       "      <td>B</td>\n",
       "      <td>10</td>\n",
       "    </tr>\n",
       "  </tbody>\n",
       "</table>\n",
       "<p>5 rows × 22 columns</p>\n",
       "</div>"
      ],
      "text/plain": [
       "               'ID  Approved City_Category City_Code Contacted  \\\n",
       "0  APPC90493171225       0.0             A    C10001         N   \n",
       "1  APPD40611263344       0.0             A    C10003         Y   \n",
       "2  APPE70289249423       0.0             C    C10125         Y   \n",
       "3  APPF80273865537       0.0             C    C10477         Y   \n",
       "4  APPG60994436641       0.0             A    C10002         Y   \n",
       "\n",
       "  Customer_Existing_Primary_Bank_Code       DOB    EMI Employer_Category1  \\\n",
       "0                                B001  23/07/79    NaN                  A   \n",
       "1                                B002  07/12/86  953.0                  C   \n",
       "2                                B003  10/12/82    NaN                  C   \n",
       "3                                B003  30/01/89    NaN                  A   \n",
       "4                                B001  19/04/85    NaN                  A   \n",
       "\n",
       "   Employer_Category2 ...   Gender  Interest_Rate Lead_Creation_Date  \\\n",
       "0                 4.0 ...   Female            NaN           15/07/16   \n",
       "1                 1.0 ...     Male          13.25           04/07/16   \n",
       "2                 4.0 ...     Male            NaN           19/07/16   \n",
       "3                 4.0 ...     Male            NaN           09/07/16   \n",
       "4                 4.0 ...     Male            NaN           20/07/16   \n",
       "\n",
       "   Loan_Amount Loan_Period  Monthly_Income  Primary_Bank_Type  Source  \\\n",
       "0          NaN         NaN          2000.0                  P    S122   \n",
       "1      20000.0         2.0          3500.0                  P    S122   \n",
       "2      45000.0         4.0          2250.0                  G    S143   \n",
       "3      92000.0         5.0          3500.0                  G    S143   \n",
       "4      50000.0         2.0         10000.0                  P    S134   \n",
       "\n",
       "  Source_Category Var1  \n",
       "0               G    0  \n",
       "1               G   10  \n",
       "2               B    0  \n",
       "3               B    7  \n",
       "4               B   10  \n",
       "\n",
       "[5 rows x 22 columns]"
      ]
     },
     "execution_count": 6,
     "metadata": {},
     "output_type": "execute_result"
    }
   ],
   "source": [
    "df_combined.head()"
   ]
  },
  {
   "cell_type": "code",
   "execution_count": 7,
   "metadata": {},
   "outputs": [
    {
     "data": {
      "text/html": [
       "<div>\n",
       "<style>\n",
       "    .dataframe thead tr:only-child th {\n",
       "        text-align: right;\n",
       "    }\n",
       "\n",
       "    .dataframe thead th {\n",
       "        text-align: left;\n",
       "    }\n",
       "\n",
       "    .dataframe tbody tr th {\n",
       "        vertical-align: top;\n",
       "    }\n",
       "</style>\n",
       "<table border=\"1\" class=\"dataframe\">\n",
       "  <thead>\n",
       "    <tr style=\"text-align: right;\">\n",
       "      <th></th>\n",
       "      <th>'ID</th>\n",
       "      <th>Approved</th>\n",
       "      <th>City_Category</th>\n",
       "      <th>City_Code</th>\n",
       "      <th>Contacted</th>\n",
       "      <th>Customer_Existing_Primary_Bank_Code</th>\n",
       "      <th>DOB</th>\n",
       "      <th>EMI</th>\n",
       "      <th>Employer_Category1</th>\n",
       "      <th>Employer_Category2</th>\n",
       "      <th>...</th>\n",
       "      <th>Gender</th>\n",
       "      <th>Interest_Rate</th>\n",
       "      <th>Lead_Creation_Date</th>\n",
       "      <th>Loan_Amount</th>\n",
       "      <th>Loan_Period</th>\n",
       "      <th>Monthly_Income</th>\n",
       "      <th>Primary_Bank_Type</th>\n",
       "      <th>Source</th>\n",
       "      <th>Source_Category</th>\n",
       "      <th>Var1</th>\n",
       "    </tr>\n",
       "  </thead>\n",
       "  <tbody>\n",
       "    <tr>\n",
       "      <th>count</th>\n",
       "      <td>99750</td>\n",
       "      <td>69713.000000</td>\n",
       "      <td>98622</td>\n",
       "      <td>98622</td>\n",
       "      <td>99750</td>\n",
       "      <td>86322</td>\n",
       "      <td>99732</td>\n",
       "      <td>31928.000000</td>\n",
       "      <td>94127</td>\n",
       "      <td>93757.000000</td>\n",
       "      <td>...</td>\n",
       "      <td>99750</td>\n",
       "      <td>31928.000000</td>\n",
       "      <td>99750</td>\n",
       "      <td>60170.000000</td>\n",
       "      <td>60170.000000</td>\n",
       "      <td>9.975000e+04</td>\n",
       "      <td>86322</td>\n",
       "      <td>99750</td>\n",
       "      <td>99750</td>\n",
       "      <td>99750.000000</td>\n",
       "    </tr>\n",
       "    <tr>\n",
       "      <th>unique</th>\n",
       "      <td>99750</td>\n",
       "      <td>NaN</td>\n",
       "      <td>3</td>\n",
       "      <td>704</td>\n",
       "      <td>2</td>\n",
       "      <td>57</td>\n",
       "      <td>11672</td>\n",
       "      <td>NaN</td>\n",
       "      <td>3</td>\n",
       "      <td>NaN</td>\n",
       "      <td>...</td>\n",
       "      <td>2</td>\n",
       "      <td>NaN</td>\n",
       "      <td>92</td>\n",
       "      <td>NaN</td>\n",
       "      <td>NaN</td>\n",
       "      <td>NaN</td>\n",
       "      <td>2</td>\n",
       "      <td>33</td>\n",
       "      <td>7</td>\n",
       "      <td>NaN</td>\n",
       "    </tr>\n",
       "    <tr>\n",
       "      <th>top</th>\n",
       "      <td>APPJ70738096145</td>\n",
       "      <td>NaN</td>\n",
       "      <td>A</td>\n",
       "      <td>C10001</td>\n",
       "      <td>Y</td>\n",
       "      <td>B001</td>\n",
       "      <td>11/01/82</td>\n",
       "      <td>NaN</td>\n",
       "      <td>A</td>\n",
       "      <td>NaN</td>\n",
       "      <td>...</td>\n",
       "      <td>Male</td>\n",
       "      <td>NaN</td>\n",
       "      <td>02/09/16</td>\n",
       "      <td>NaN</td>\n",
       "      <td>NaN</td>\n",
       "      <td>NaN</td>\n",
       "      <td>P</td>\n",
       "      <td>S122</td>\n",
       "      <td>B</td>\n",
       "      <td>NaN</td>\n",
       "    </tr>\n",
       "    <tr>\n",
       "      <th>freq</th>\n",
       "      <td>1</td>\n",
       "      <td>NaN</td>\n",
       "      <td>71383</td>\n",
       "      <td>14313</td>\n",
       "      <td>64772</td>\n",
       "      <td>20155</td>\n",
       "      <td>345</td>\n",
       "      <td>NaN</td>\n",
       "      <td>47805</td>\n",
       "      <td>NaN</td>\n",
       "      <td>...</td>\n",
       "      <td>57153</td>\n",
       "      <td>NaN</td>\n",
       "      <td>2614</td>\n",
       "      <td>NaN</td>\n",
       "      <td>NaN</td>\n",
       "      <td>NaN</td>\n",
       "      <td>56483</td>\n",
       "      <td>44213</td>\n",
       "      <td>42743</td>\n",
       "      <td>NaN</td>\n",
       "    </tr>\n",
       "    <tr>\n",
       "      <th>mean</th>\n",
       "      <td>NaN</td>\n",
       "      <td>0.014631</td>\n",
       "      <td>NaN</td>\n",
       "      <td>NaN</td>\n",
       "      <td>NaN</td>\n",
       "      <td>NaN</td>\n",
       "      <td>NaN</td>\n",
       "      <td>1099.485718</td>\n",
       "      <td>NaN</td>\n",
       "      <td>3.722623</td>\n",
       "      <td>...</td>\n",
       "      <td>NaN</td>\n",
       "      <td>19.233814</td>\n",
       "      <td>NaN</td>\n",
       "      <td>39445.986372</td>\n",
       "      <td>3.894399</td>\n",
       "      <td>5.126893e+03</td>\n",
       "      <td>NaN</td>\n",
       "      <td>NaN</td>\n",
       "      <td>NaN</td>\n",
       "      <td>3.952622</td>\n",
       "    </tr>\n",
       "    <tr>\n",
       "      <th>std</th>\n",
       "      <td>NaN</td>\n",
       "      <td>0.120073</td>\n",
       "      <td>NaN</td>\n",
       "      <td>NaN</td>\n",
       "      <td>NaN</td>\n",
       "      <td>NaN</td>\n",
       "      <td>NaN</td>\n",
       "      <td>745.125218</td>\n",
       "      <td>NaN</td>\n",
       "      <td>0.803623</td>\n",
       "      <td>...</td>\n",
       "      <td>NaN</td>\n",
       "      <td>5.857761</td>\n",
       "      <td>NaN</td>\n",
       "      <td>30667.188339</td>\n",
       "      <td>1.162487</td>\n",
       "      <td>1.466628e+05</td>\n",
       "      <td>NaN</td>\n",
       "      <td>NaN</td>\n",
       "      <td>NaN</td>\n",
       "      <td>3.819744</td>\n",
       "    </tr>\n",
       "    <tr>\n",
       "      <th>min</th>\n",
       "      <td>NaN</td>\n",
       "      <td>0.000000</td>\n",
       "      <td>NaN</td>\n",
       "      <td>NaN</td>\n",
       "      <td>NaN</td>\n",
       "      <td>NaN</td>\n",
       "      <td>NaN</td>\n",
       "      <td>118.000000</td>\n",
       "      <td>NaN</td>\n",
       "      <td>1.000000</td>\n",
       "      <td>...</td>\n",
       "      <td>NaN</td>\n",
       "      <td>11.990000</td>\n",
       "      <td>NaN</td>\n",
       "      <td>5000.000000</td>\n",
       "      <td>1.000000</td>\n",
       "      <td>0.000000e+00</td>\n",
       "      <td>NaN</td>\n",
       "      <td>NaN</td>\n",
       "      <td>NaN</td>\n",
       "      <td>0.000000</td>\n",
       "    </tr>\n",
       "    <tr>\n",
       "      <th>25%</th>\n",
       "      <td>NaN</td>\n",
       "      <td>0.000000</td>\n",
       "      <td>NaN</td>\n",
       "      <td>NaN</td>\n",
       "      <td>NaN</td>\n",
       "      <td>NaN</td>\n",
       "      <td>NaN</td>\n",
       "      <td>642.750000</td>\n",
       "      <td>NaN</td>\n",
       "      <td>4.000000</td>\n",
       "      <td>...</td>\n",
       "      <td>NaN</td>\n",
       "      <td>15.250000</td>\n",
       "      <td>NaN</td>\n",
       "      <td>20000.000000</td>\n",
       "      <td>3.000000</td>\n",
       "      <td>1.650000e+03</td>\n",
       "      <td>NaN</td>\n",
       "      <td>NaN</td>\n",
       "      <td>NaN</td>\n",
       "      <td>0.000000</td>\n",
       "    </tr>\n",
       "    <tr>\n",
       "      <th>50%</th>\n",
       "      <td>NaN</td>\n",
       "      <td>0.000000</td>\n",
       "      <td>NaN</td>\n",
       "      <td>NaN</td>\n",
       "      <td>NaN</td>\n",
       "      <td>NaN</td>\n",
       "      <td>NaN</td>\n",
       "      <td>943.000000</td>\n",
       "      <td>NaN</td>\n",
       "      <td>4.000000</td>\n",
       "      <td>...</td>\n",
       "      <td>NaN</td>\n",
       "      <td>18.000000</td>\n",
       "      <td>NaN</td>\n",
       "      <td>30000.000000</td>\n",
       "      <td>4.000000</td>\n",
       "      <td>2.500000e+03</td>\n",
       "      <td>NaN</td>\n",
       "      <td>NaN</td>\n",
       "      <td>NaN</td>\n",
       "      <td>2.000000</td>\n",
       "    </tr>\n",
       "    <tr>\n",
       "      <th>75%</th>\n",
       "      <td>NaN</td>\n",
       "      <td>0.000000</td>\n",
       "      <td>NaN</td>\n",
       "      <td>NaN</td>\n",
       "      <td>NaN</td>\n",
       "      <td>NaN</td>\n",
       "      <td>NaN</td>\n",
       "      <td>1293.000000</td>\n",
       "      <td>NaN</td>\n",
       "      <td>4.000000</td>\n",
       "      <td>...</td>\n",
       "      <td>NaN</td>\n",
       "      <td>20.000000</td>\n",
       "      <td>NaN</td>\n",
       "      <td>50000.000000</td>\n",
       "      <td>5.000000</td>\n",
       "      <td>4.000000e+03</td>\n",
       "      <td>NaN</td>\n",
       "      <td>NaN</td>\n",
       "      <td>NaN</td>\n",
       "      <td>7.000000</td>\n",
       "    </tr>\n",
       "    <tr>\n",
       "      <th>max</th>\n",
       "      <td>NaN</td>\n",
       "      <td>1.000000</td>\n",
       "      <td>NaN</td>\n",
       "      <td>NaN</td>\n",
       "      <td>NaN</td>\n",
       "      <td>NaN</td>\n",
       "      <td>NaN</td>\n",
       "      <td>13556.000000</td>\n",
       "      <td>NaN</td>\n",
       "      <td>4.000000</td>\n",
       "      <td>...</td>\n",
       "      <td>NaN</td>\n",
       "      <td>37.000000</td>\n",
       "      <td>NaN</td>\n",
       "      <td>300000.000000</td>\n",
       "      <td>6.000000</td>\n",
       "      <td>3.838384e+07</td>\n",
       "      <td>NaN</td>\n",
       "      <td>NaN</td>\n",
       "      <td>NaN</td>\n",
       "      <td>10.000000</td>\n",
       "    </tr>\n",
       "  </tbody>\n",
       "</table>\n",
       "<p>11 rows × 22 columns</p>\n",
       "</div>"
      ],
      "text/plain": [
       "                    'ID      Approved City_Category City_Code Contacted  \\\n",
       "count             99750  69713.000000         98622     98622     99750   \n",
       "unique            99750           NaN             3       704         2   \n",
       "top     APPJ70738096145           NaN             A    C10001         Y   \n",
       "freq                  1           NaN         71383     14313     64772   \n",
       "mean                NaN      0.014631           NaN       NaN       NaN   \n",
       "std                 NaN      0.120073           NaN       NaN       NaN   \n",
       "min                 NaN      0.000000           NaN       NaN       NaN   \n",
       "25%                 NaN      0.000000           NaN       NaN       NaN   \n",
       "50%                 NaN      0.000000           NaN       NaN       NaN   \n",
       "75%                 NaN      0.000000           NaN       NaN       NaN   \n",
       "max                 NaN      1.000000           NaN       NaN       NaN   \n",
       "\n",
       "       Customer_Existing_Primary_Bank_Code       DOB           EMI  \\\n",
       "count                                86322     99732  31928.000000   \n",
       "unique                                  57     11672           NaN   \n",
       "top                                   B001  11/01/82           NaN   \n",
       "freq                                 20155       345           NaN   \n",
       "mean                                   NaN       NaN   1099.485718   \n",
       "std                                    NaN       NaN    745.125218   \n",
       "min                                    NaN       NaN    118.000000   \n",
       "25%                                    NaN       NaN    642.750000   \n",
       "50%                                    NaN       NaN    943.000000   \n",
       "75%                                    NaN       NaN   1293.000000   \n",
       "max                                    NaN       NaN  13556.000000   \n",
       "\n",
       "       Employer_Category1  Employer_Category2      ...      Gender  \\\n",
       "count               94127        93757.000000      ...       99750   \n",
       "unique                  3                 NaN      ...           2   \n",
       "top                     A                 NaN      ...        Male   \n",
       "freq                47805                 NaN      ...       57153   \n",
       "mean                  NaN            3.722623      ...         NaN   \n",
       "std                   NaN            0.803623      ...         NaN   \n",
       "min                   NaN            1.000000      ...         NaN   \n",
       "25%                   NaN            4.000000      ...         NaN   \n",
       "50%                   NaN            4.000000      ...         NaN   \n",
       "75%                   NaN            4.000000      ...         NaN   \n",
       "max                   NaN            4.000000      ...         NaN   \n",
       "\n",
       "        Interest_Rate Lead_Creation_Date    Loan_Amount   Loan_Period  \\\n",
       "count    31928.000000              99750   60170.000000  60170.000000   \n",
       "unique            NaN                 92            NaN           NaN   \n",
       "top               NaN           02/09/16            NaN           NaN   \n",
       "freq              NaN               2614            NaN           NaN   \n",
       "mean        19.233814                NaN   39445.986372      3.894399   \n",
       "std          5.857761                NaN   30667.188339      1.162487   \n",
       "min         11.990000                NaN    5000.000000      1.000000   \n",
       "25%         15.250000                NaN   20000.000000      3.000000   \n",
       "50%         18.000000                NaN   30000.000000      4.000000   \n",
       "75%         20.000000                NaN   50000.000000      5.000000   \n",
       "max         37.000000                NaN  300000.000000      6.000000   \n",
       "\n",
       "        Monthly_Income  Primary_Bank_Type  Source Source_Category  \\\n",
       "count     9.975000e+04              86322   99750           99750   \n",
       "unique             NaN                  2      33               7   \n",
       "top                NaN                  P    S122               B   \n",
       "freq               NaN              56483   44213           42743   \n",
       "mean      5.126893e+03                NaN     NaN             NaN   \n",
       "std       1.466628e+05                NaN     NaN             NaN   \n",
       "min       0.000000e+00                NaN     NaN             NaN   \n",
       "25%       1.650000e+03                NaN     NaN             NaN   \n",
       "50%       2.500000e+03                NaN     NaN             NaN   \n",
       "75%       4.000000e+03                NaN     NaN             NaN   \n",
       "max       3.838384e+07                NaN     NaN             NaN   \n",
       "\n",
       "                Var1  \n",
       "count   99750.000000  \n",
       "unique           NaN  \n",
       "top              NaN  \n",
       "freq             NaN  \n",
       "mean        3.952622  \n",
       "std         3.819744  \n",
       "min         0.000000  \n",
       "25%         0.000000  \n",
       "50%         2.000000  \n",
       "75%         7.000000  \n",
       "max        10.000000  \n",
       "\n",
       "[11 rows x 22 columns]"
      ]
     },
     "execution_count": 7,
     "metadata": {},
     "output_type": "execute_result"
    }
   ],
   "source": [
    "df_combined.describe(include='all')"
   ]
  },
  {
   "cell_type": "markdown",
   "metadata": {},
   "source": [
    "### Correlation Check"
   ]
  },
  {
   "cell_type": "code",
   "execution_count": 8,
   "metadata": {},
   "outputs": [
    {
     "data": {
      "image/png": "[encoded data removed]",
      "text/plain": [
       "<matplotlib.figure.Figure at 0xe8130f0>"
      ]
     },
     "metadata": {},
     "output_type": "display_data"
    }
   ],
   "source": [
    "plt.figure(figsize=(20,10))\n",
    "sns.heatmap(df_combined.corr(), annot=True)\n",
    "plt.show()"
   ]
  },
  {
   "cell_type": "raw",
   "metadata": {},
   "source": [
    "Fromt he heatmap, we note that the features, EMI and Loan Amount are highly correlated with one another (correlation = 0.92). This might lead to multicollinearity. Also, based on the correlation with the target label ('Approved'), we find that the informative features are EMI, Interest, Loan Amount and Var1.\n",
    "\n",
    "However, we should note that the correlation we are dealing with do not control for the other factors in the dataset."
   ]
  },
  {
   "cell_type": "markdown",
   "metadata": {},
   "source": [
    "### Checking null value percentage in each column"
   ]
  },
  {
   "cell_type": "code",
   "execution_count": 9,
   "metadata": {},
   "outputs": [
    {
     "data": {
      "text/plain": [
       "'ID                                     0.000000\n",
       "Source                                  0.000000\n",
       "Monthly_Income                          0.000000\n",
       "Lead_Creation_Date                      0.000000\n",
       "Gender                                  0.000000\n",
       "Source_Category                         0.000000\n",
       "Var1                                    0.000000\n",
       "Contacted                               0.000000\n",
       "DOB                                     0.018045\n",
       "Existing_EMI                            0.083208\n",
       "City_Code                               1.130827\n",
       "City_Category                           1.130827\n",
       "Employer_Category1                      5.637093\n",
       "Employer_Code                           5.637093\n",
       "Employer_Category2                      6.008020\n",
       "Customer_Existing_Primary_Bank_Code    13.461654\n",
       "Primary_Bank_Type                      13.461654\n",
       "Approved                               30.112281\n",
       "Loan_Amount                            39.679198\n",
       "Loan_Period                            39.679198\n",
       "EMI                                    67.991980\n",
       "Interest_Rate                          67.991980\n",
       "dtype: float64"
      ]
     },
     "execution_count": 9,
     "metadata": {},
     "output_type": "execute_result"
    }
   ],
   "source": [
    "(np.sum(df_combined.isnull())/df_combined.shape[0]).sort_values(ascending=True)*100"
   ]
  },
  {
   "cell_type": "raw",
   "metadata": {},
   "source": [
    "Here, we note that only the features Contacted, Gender, ID, Lead_Creation_Date, Monthly_Income, Source, Source_Category and Var1 have no missing values, while the other features have various degrees of missing values.\n",
    "\n",
    "As an aside, we also observe that the feature pairs, City_Category and City_Code, Employer_Category1 and Employer_Code, Loan_Amount and Loan_Period, Interest Rate and EMI, and Customer_Existing_Primary_Bank_Code and Primary_Bank_Type have the same amount of missing values. This begs the question: are the features dependent on one another? Intuitively, it appears so. For example, it is not possible to have a city category without a city code. Also, without an Employer Code, it is not possible to have an employer category.\n",
    "\n",
    "However, Lets find out."
   ]
  },
  {
   "cell_type": "code",
   "execution_count": 11,
   "metadata": {},
   "outputs": [
    {
     "name": "stdout",
     "output_type": "stream",
     "text": [
      "True\n",
      "True\n",
      "True\n",
      "True\n",
      "True\n"
     ]
    }
   ],
   "source": [
    "# Relationship between City Category and City Code\n",
    "print (np.sum(df_combined.isnull()).loc['City_Category'] == df_combined[df_combined.City_Category.isnull() & df_combined.City_Code.isnull()].shape[0])\n",
    "\n",
    "# Relationship between Employer Category1 and Employer Code\n",
    "print (np.sum(df_combined.isnull()).loc['Employer_Code'] == df_combined[df_combined.Employer_Category1.isnull() & df_combined.Employer_Code.isnull()].shape[0])\n",
    "\n",
    "# Relationship between Loan Amount and Loan_Period\n",
    "print (np.sum(df_combined.isnull()).loc['Loan_Amount'] == df_combined[df_combined.Loan_Amount.isnull() & df_combined.Loan_Period.isnull()].shape[0])\n",
    "\n",
    "# Relationship between Interest Rate and EMI\n",
    "print (np.sum(df_combined.isnull()).loc['EMI'] == df_combined[df_combined.EMI.isnull() & df_combined.Interest_Rate.isnull()].shape[0])\n",
    "\n",
    "# Relationship between Customer Existing Primary Bank Code and Primary Bank Type\n",
    "print (np.sum(df_combined.isnull()).loc['Primary_Bank_Type'] == df_combined[df_combined.Customer_Existing_Primary_Bank_Code.isnull() & df_combined.Primary_Bank_Type.isnull()].shape[0])\n"
   ]
  },
  {
   "cell_type": "code",
   "execution_count": 12,
   "metadata": {},
   "outputs": [
    {
     "data": {
      "text/plain": [
       "Source_Category\n",
       "A        6\n",
       "B    42743\n",
       "C    16274\n",
       "D      717\n",
       "E     1478\n",
       "F      629\n",
       "G    37903\n",
       "dtype: int64"
      ]
     },
     "execution_count": 12,
     "metadata": {},
     "output_type": "execute_result"
    }
   ],
   "source": [
    "# Group by source_category\n",
    "df_combined.groupby('Source_Category').size()"
   ]
  },
  {
   "cell_type": "code",
   "execution_count": 13,
   "metadata": {},
   "outputs": [
    {
     "name": "stdout",
     "output_type": "stream",
     "text": [
      "percent of Approved=1, by Source_Category\n",
      "A    0.000000\n",
      "D    0.000000\n",
      "C    1.230877\n",
      "F    1.307190\n",
      "G    1.372653\n",
      "E    1.428571\n",
      "B    1.660405\n",
      "Name: Approved, dtype: float64\n"
     ]
    }
   ],
   "source": [
    "tab = df_combined.groupby('Source_Category').Approved.mean().sort_values()*100\n",
    "print(\"percent of Approved=1, by\", tab)\n",
    "# conclusion: source_category D and A never converted into leads in our training set"
   ]
  },
  {
   "cell_type": "markdown",
   "metadata": {},
   "source": [
    "### Variable details"
   ]
  },
  {
   "cell_type": "code",
   "execution_count": 14,
   "metadata": {},
   "outputs": [
    {
     "name": "stdout",
     "output_type": "stream",
     "text": [
      "                                 Column         Type\n",
      "0                                    ID       Object\n",
      "1                                Gender      Boolean\n",
      "2                                   DOB         Date\n",
      "3                    Lead_Creation_Date         Date\n",
      "4                             City_Code  Categorical\n",
      "5                         City_Category  Categorical\n",
      "6                         Employer_Code  Categorical\n",
      "7                    Employer_Category1  Categorical\n",
      "8                    Employer_Category2  Categorical\n",
      "9                        Monthly_Income    Numerical\n",
      "10  Customer_Existing_Primary_Bank_Code  Categorical\n",
      "11                    Primary_Bank_Type      Boolean\n",
      "12                            Contacted      Boolean\n",
      "13                               Source  Categorical\n",
      "14                      Source_Category  Categorical\n",
      "15                         Existing_EMI    Numerical\n",
      "16                          Loan_Amount    Numerical\n",
      "17                          Loan_Period    Numerical\n",
      "18                        Interest_Rate    Numerical\n",
      "19                                  EMI    Numerical\n",
      "20                                 Var1  Categorical\n",
      "21                             Approved            y\n"
     ]
    }
   ],
   "source": [
    "variable_details = pd.read_excel(\"Variable_details.xlsx\")\n",
    "print(variable_details.loc[:, ['Column', 'Type']])"
   ]
  },
  {
   "cell_type": "markdown",
   "metadata": {},
   "source": [
    "### Feature Engineering"
   ]
  },
  {
   "cell_type": "code",
   "execution_count": 15,
   "metadata": {
    "collapsed": true
   },
   "outputs": [],
   "source": [
    "# infer datatype\n",
    "def getcoltype(type):\n",
    "    '''Input string of type. Output list of colnames with that type. \n",
    "    Types can be Numerical, Categorical, Boolean, Object\n",
    "    '''\n",
    "    return variable_details.loc[variable_details.Type == type, 'Column'].tolist()\n",
    "\n",
    "# save to list based on datatype\n",
    "cols_datetime = getcoltype('Date')\n",
    "cols_numeric = getcoltype('Numerical')\n",
    "cols_category = getcoltype('Categorical')\n",
    "cols_object = getcoltype('Object')\n",
    "cols_boolean = getcoltype('Boolean')"
   ]
  },
  {
   "cell_type": "code",
   "execution_count": 16,
   "metadata": {
    "collapsed": true
   },
   "outputs": [],
   "source": [
    "# convert categorical, numerical, datetime\n",
    "df_combined[cols_numeric] = df_combined[cols_numeric].apply(lambda x: pd.to_numeric(x))\n",
    "df_combined[cols_datetime] = df_combined[cols_datetime].apply(lambda x: pd.to_datetime(x))\n",
    "df_combined[cols_category] = df_combined[cols_category].apply(lambda x: x.astype('category'))"
   ]
  },
  {
   "cell_type": "code",
   "execution_count": 17,
   "metadata": {
    "collapsed": true
   },
   "outputs": [],
   "source": [
    "# convert booleans\n",
    "df_combined['Female'] = (df_combined.Gender == 'Female')\n",
    "df_combined['Primary_Bank_Type_G'] = (df_combined.Primary_Bank_Type == 'G')\n",
    "df_combined['Contacted'] = (df_combined.Contacted == 'Y')\n",
    "df_combined.drop(['Gender', 'Primary_Bank_Type'], inplace = True, axis=1)\n",
    "cols_boolean = ['Female', 'Primary_Bank_Type_G', 'Contacted']"
   ]
  },
  {
   "cell_type": "markdown",
   "metadata": {},
   "source": [
    "### Feature Generation"
   ]
  },
  {
   "cell_type": "code",
   "execution_count": 18,
   "metadata": {
    "collapsed": true
   },
   "outputs": [],
   "source": [
    "# create age \n",
    "df_combined['age'] = 2018 - df_combined.DOB.dt.year\n",
    "cols_numeric.append('age')\n",
    "\n",
    "# fix age\n",
    "df_combined.loc[df_combined.age < 0, 'age'] = np.nan"
   ]
  },
  {
   "cell_type": "markdown",
   "metadata": {},
   "source": [
    "### Missing Data Imputation"
   ]
  },
  {
   "cell_type": "raw",
   "metadata": {},
   "source": [
    "For both imputer and standardscaler the following is used: fit on df_train, use that fit to tranform df_train. Then use the same fit to transform df_test."
   ]
  },
  {
   "cell_type": "code",
   "execution_count": 19,
   "metadata": {
    "collapsed": true
   },
   "outputs": [],
   "source": [
    "# rows \n",
    "rows_train_csv = df_combined['Approved'].notnull()\n",
    "rows_test_csv = ~rows_train_csv"
   ]
  },
  {
   "cell_type": "code",
   "execution_count": 20,
   "metadata": {
    "collapsed": true
   },
   "outputs": [],
   "source": [
    "# impute NA  for df_train and df_test\n",
    "\n",
    "from sklearn.preprocessing import Imputer\n",
    "\n",
    "imp = Imputer(missing_values='NaN', strategy='mean', axis=0)\n",
    "df_combined.loc[rows_train_csv, cols_numeric] = imp.fit_transform(df_combined.loc[rows_train_csv, cols_numeric])\n",
    "df_combined.loc[rows_test_csv, cols_numeric] = imp.transform(df_combined.loc[rows_test_csv, cols_numeric])"
   ]
  },
  {
   "cell_type": "markdown",
   "metadata": {},
   "source": [
    "### Data Scaling"
   ]
  },
  {
   "cell_type": "code",
   "execution_count": 21,
   "metadata": {
    "collapsed": true
   },
   "outputs": [],
   "source": [
    "# standardize for df_train and df_test\n",
    "from sklearn.preprocessing import StandardScaler\n",
    "\n",
    "scaler = StandardScaler()\n",
    "df_combined.loc[rows_train_csv, cols_numeric] = scaler.fit_transform(df_combined.loc[rows_train_csv, cols_numeric])\n",
    "df_combined.loc[rows_test_csv, cols_numeric] = scaler.transform(df_combined.loc[rows_test_csv, cols_numeric])"
   ]
  },
  {
   "cell_type": "code",
   "execution_count": 22,
   "metadata": {},
   "outputs": [
    {
     "data": {
      "text/html": [
       "<div>\n",
       "<style>\n",
       "    .dataframe thead tr:only-child th {\n",
       "        text-align: right;\n",
       "    }\n",
       "\n",
       "    .dataframe thead th {\n",
       "        text-align: left;\n",
       "    }\n",
       "\n",
       "    .dataframe tbody tr th {\n",
       "        vertical-align: top;\n",
       "    }\n",
       "</style>\n",
       "<table border=\"1\" class=\"dataframe\">\n",
       "  <thead>\n",
       "    <tr style=\"text-align: right;\">\n",
       "      <th></th>\n",
       "      <th>'ID</th>\n",
       "      <th>Approved</th>\n",
       "      <th>City_Category</th>\n",
       "      <th>City_Code</th>\n",
       "      <th>Contacted</th>\n",
       "      <th>Customer_Existing_Primary_Bank_Code</th>\n",
       "      <th>DOB</th>\n",
       "      <th>EMI</th>\n",
       "      <th>Employer_Category1</th>\n",
       "      <th>Employer_Category2</th>\n",
       "      <th>...</th>\n",
       "      <th>Lead_Creation_Date</th>\n",
       "      <th>Loan_Amount</th>\n",
       "      <th>Loan_Period</th>\n",
       "      <th>Monthly_Income</th>\n",
       "      <th>Source</th>\n",
       "      <th>Source_Category</th>\n",
       "      <th>Var1</th>\n",
       "      <th>Female</th>\n",
       "      <th>Primary_Bank_Type_G</th>\n",
       "      <th>age</th>\n",
       "    </tr>\n",
       "  </thead>\n",
       "  <tbody>\n",
       "    <tr>\n",
       "      <th>0</th>\n",
       "      <td>APPC90493171225</td>\n",
       "      <td>0.0</td>\n",
       "      <td>A</td>\n",
       "      <td>C10001</td>\n",
       "      <td>False</td>\n",
       "      <td>B001</td>\n",
       "      <td>1979-07-23</td>\n",
       "      <td>0.00000</td>\n",
       "      <td>A</td>\n",
       "      <td>4.0</td>\n",
       "      <td>...</td>\n",
       "      <td>2016-07-15</td>\n",
       "      <td>0.000000</td>\n",
       "      <td>0.000000</td>\n",
       "      <td>-0.020726</td>\n",
       "      <td>S122</td>\n",
       "      <td>G</td>\n",
       "      <td>0</td>\n",
       "      <td>True</td>\n",
       "      <td>False</td>\n",
       "      <td>1.255632</td>\n",
       "    </tr>\n",
       "    <tr>\n",
       "      <th>1</th>\n",
       "      <td>APPD40611263344</td>\n",
       "      <td>0.0</td>\n",
       "      <td>A</td>\n",
       "      <td>C10003</td>\n",
       "      <td>True</td>\n",
       "      <td>B002</td>\n",
       "      <td>1986-07-12</td>\n",
       "      <td>-0.34896</td>\n",
       "      <td>C</td>\n",
       "      <td>1.0</td>\n",
       "      <td>...</td>\n",
       "      <td>2016-04-07</td>\n",
       "      <td>-0.814630</td>\n",
       "      <td>-2.086266</td>\n",
       "      <td>-0.012144</td>\n",
       "      <td>S122</td>\n",
       "      <td>G</td>\n",
       "      <td>10</td>\n",
       "      <td>False</td>\n",
       "      <td>False</td>\n",
       "      <td>0.009396</td>\n",
       "    </tr>\n",
       "    <tr>\n",
       "      <th>2</th>\n",
       "      <td>APPE70289249423</td>\n",
       "      <td>0.0</td>\n",
       "      <td>C</td>\n",
       "      <td>C10125</td>\n",
       "      <td>True</td>\n",
       "      <td>B003</td>\n",
       "      <td>1982-10-12</td>\n",
       "      <td>0.00000</td>\n",
       "      <td>C</td>\n",
       "      <td>4.0</td>\n",
       "      <td>...</td>\n",
       "      <td>2016-07-19</td>\n",
       "      <td>0.233531</td>\n",
       "      <td>0.120688</td>\n",
       "      <td>-0.019296</td>\n",
       "      <td>S143</td>\n",
       "      <td>B</td>\n",
       "      <td>0</td>\n",
       "      <td>False</td>\n",
       "      <td>True</td>\n",
       "      <td>0.721531</td>\n",
       "    </tr>\n",
       "    <tr>\n",
       "      <th>3</th>\n",
       "      <td>APPF80273865537</td>\n",
       "      <td>0.0</td>\n",
       "      <td>C</td>\n",
       "      <td>C10477</td>\n",
       "      <td>True</td>\n",
       "      <td>B003</td>\n",
       "      <td>1989-01-30</td>\n",
       "      <td>0.00000</td>\n",
       "      <td>A</td>\n",
       "      <td>4.0</td>\n",
       "      <td>...</td>\n",
       "      <td>2016-09-07</td>\n",
       "      <td>2.204074</td>\n",
       "      <td>1.224165</td>\n",
       "      <td>-0.012144</td>\n",
       "      <td>S143</td>\n",
       "      <td>B</td>\n",
       "      <td>7</td>\n",
       "      <td>False</td>\n",
       "      <td>True</td>\n",
       "      <td>-0.524705</td>\n",
       "    </tr>\n",
       "    <tr>\n",
       "      <th>4</th>\n",
       "      <td>APPG60994436641</td>\n",
       "      <td>0.0</td>\n",
       "      <td>A</td>\n",
       "      <td>C10002</td>\n",
       "      <td>True</td>\n",
       "      <td>B001</td>\n",
       "      <td>1985-04-19</td>\n",
       "      <td>0.00000</td>\n",
       "      <td>A</td>\n",
       "      <td>4.0</td>\n",
       "      <td>...</td>\n",
       "      <td>2016-07-20</td>\n",
       "      <td>0.443163</td>\n",
       "      <td>-2.086266</td>\n",
       "      <td>0.025049</td>\n",
       "      <td>S134</td>\n",
       "      <td>B</td>\n",
       "      <td>10</td>\n",
       "      <td>False</td>\n",
       "      <td>False</td>\n",
       "      <td>0.187430</td>\n",
       "    </tr>\n",
       "  </tbody>\n",
       "</table>\n",
       "<p>5 rows × 23 columns</p>\n",
       "</div>"
      ],
      "text/plain": [
       "               'ID  Approved City_Category City_Code  Contacted  \\\n",
       "0  APPC90493171225       0.0             A    C10001      False   \n",
       "1  APPD40611263344       0.0             A    C10003       True   \n",
       "2  APPE70289249423       0.0             C    C10125       True   \n",
       "3  APPF80273865537       0.0             C    C10477       True   \n",
       "4  APPG60994436641       0.0             A    C10002       True   \n",
       "\n",
       "  Customer_Existing_Primary_Bank_Code        DOB      EMI Employer_Category1  \\\n",
       "0                                B001 1979-07-23  0.00000                  A   \n",
       "1                                B002 1986-07-12 -0.34896                  C   \n",
       "2                                B003 1982-10-12  0.00000                  C   \n",
       "3                                B003 1989-01-30  0.00000                  A   \n",
       "4                                B001 1985-04-19  0.00000                  A   \n",
       "\n",
       "  Employer_Category2    ...    Lead_Creation_Date  Loan_Amount  Loan_Period  \\\n",
       "0                4.0    ...            2016-07-15     0.000000     0.000000   \n",
       "1                1.0    ...            2016-04-07    -0.814630    -2.086266   \n",
       "2                4.0    ...            2016-07-19     0.233531     0.120688   \n",
       "3                4.0    ...            2016-09-07     2.204074     1.224165   \n",
       "4                4.0    ...            2016-07-20     0.443163    -2.086266   \n",
       "\n",
       "  Monthly_Income  Source  Source_Category  Var1 Female Primary_Bank_Type_G  \\\n",
       "0      -0.020726    S122                G     0   True               False   \n",
       "1      -0.012144    S122                G    10  False               False   \n",
       "2      -0.019296    S143                B     0  False                True   \n",
       "3      -0.012144    S143                B     7  False                True   \n",
       "4       0.025049    S134                B    10  False               False   \n",
       "\n",
       "        age  \n",
       "0  1.255632  \n",
       "1  0.009396  \n",
       "2  0.721531  \n",
       "3 -0.524705  \n",
       "4  0.187430  \n",
       "\n",
       "[5 rows x 23 columns]"
      ]
     },
     "execution_count": 22,
     "metadata": {},
     "output_type": "execute_result"
    }
   ],
   "source": [
    "df_combined.head()"
   ]
  },
  {
   "cell_type": "markdown",
   "metadata": {},
   "source": [
    "### Dependent & Independent Variable declaration"
   ]
  },
  {
   "cell_type": "code",
   "execution_count": 23,
   "metadata": {
    "collapsed": true
   },
   "outputs": [],
   "source": [
    "cols = ['Monthly_Income', 'Contacted',\n",
    "          'Source_Category', 'Var1', 'Female', 'Primary_Bank_Type_G',\n",
    "          'age', 'Employer_Category1', 'Employer_Category2'\n",
    "         ]"
   ]
  },
  {
   "cell_type": "code",
   "execution_count": 24,
   "metadata": {
    "collapsed": true
   },
   "outputs": [],
   "source": [
    "cols_X = cols"
   ]
  },
  {
   "cell_type": "code",
   "execution_count": 25,
   "metadata": {
    "collapsed": true
   },
   "outputs": [],
   "source": [
    "X = pd.get_dummies(df_combined[cols_X], drop_first = True)"
   ]
  },
  {
   "cell_type": "code",
   "execution_count": 26,
   "metadata": {
    "collapsed": true
   },
   "outputs": [],
   "source": [
    "# X variables for df_train, df_test\n",
    "Xm = X[rows_train_csv]\n",
    "Xp = X[rows_test_csv]\n",
    "\n",
    "# y variables for df_train, df_test and df_combined\n",
    "ym = df_combined.loc[rows_train_csv, 'Approved']\n",
    "yp = df_combined.loc[rows_test_csv, 'Approved']\n",
    "y = df_combined['Approved']"
   ]
  },
  {
   "cell_type": "code",
   "execution_count": 27,
   "metadata": {
    "collapsed": true
   },
   "outputs": [],
   "source": [
    "from sklearn.model_selection import train_test_split\n",
    "\n",
    "X_train, X_test, y_train, y_test = train_test_split(Xm, ym, test_size=0.20, random_state=9)"
   ]
  },
  {
   "cell_type": "markdown",
   "metadata": {},
   "source": [
    "### Model Selection"
   ]
  },
  {
   "cell_type": "code",
   "execution_count": 28,
   "metadata": {
    "collapsed": true
   },
   "outputs": [],
   "source": [
    "from sklearn.ensemble import GradientBoostingClassifier, RandomForestClassifier\n",
    "from sklearn.model_selection import train_test_split, cross_val_score\n",
    "from sklearn import preprocessing, metrics\n",
    "from sklearn.metrics import accuracy_score, log_loss\n",
    "from sklearn.metrics import confusion_matrix\n",
    "from sklearn.linear_model import LogisticRegression\n",
    "from sklearn.naive_bayes import GaussianNB\n",
    "from sklearn.svm import SVC\n",
    "\n",
    "clfs = {'GradientBoosting': GradientBoostingClassifier(),\n",
    "        'LogisticRegression' : LogisticRegression(),\n",
    "        'GaussianNB': GaussianNB(),\n",
    "        'RandomForest': RandomForestClassifier(),\n",
    "        'SupportVectorMachine' : SVC(probability=True)\n",
    "        }"
   ]
  },
  {
   "cell_type": "code",
   "execution_count": 29,
   "metadata": {
    "collapsed": true
   },
   "outputs": [],
   "source": [
    "cols = ['model', 'roc_auc_score', 'accuracy']"
   ]
  },
  {
   "cell_type": "code",
   "execution_count": 264,
   "metadata": {},
   "outputs": [
    {
     "name": "stdout",
     "output_type": "stream",
     "text": [
      "Computing GradientBoosting\n",
      "Computing LogisticRegression\n",
      "Computing GaussianNB\n",
      "Computing RandomForest\n",
      "Computing SupportVectorMachine\n"
     ]
    },
    {
     "data": {
      "image/png": "[encoded data removed]",
      "text/plain": [
       "<matplotlib.figure.Figure at 0xf33d940>"
      ]
     },
     "metadata": {},
     "output_type": "display_data"
    }
   ],
   "source": [
    "models_report = pd.DataFrame(columns = cols)\n",
    "feature_importance = pd.DataFrame()\n",
    "\n",
    "conf_matrix = dict()\n",
    "\n",
    "for clf, clf_name in zip(clfs.values(), clfs.keys()):\n",
    "    clf.fit(X_train,y_train)\n",
    "    y_pred = clf.predict(X_test)\n",
    "    y_score = clf.predict_proba(X_test)[:, 1]\n",
    "\n",
    "    print('Computing {}'.format(clf_name))\n",
    "    \n",
    "    if (clf_name == 'RandomForest') | (clf_name == 'GradientBoosting'):\n",
    "        tmp_fi = pd.Series(clf.feature_importances_)\n",
    "        feature_importance[clf_name] = tmp_fi\n",
    "        \n",
    "\n",
    "    tmp = pd.Series({ \n",
    "                     'model': clf_name,\n",
    "                     'roc_auc_score' : metrics.roc_auc_score(y_test, y_score),\n",
    "                     'accuracy': metrics.accuracy_score(y_test, y_pred),\n",
    "                    })\n",
    "\n",
    "    models_report = models_report.append(tmp, ignore_index = True)\n",
    "\n",
    "    conf_matrix[clf_name] = pd.crosstab(y_test, y_pred, rownames=['True'], colnames= ['Predicted'], margins=False)\n",
    "\n",
    "    precision, recall, _ = metrics.precision_recall_curve(y_test, y_score)\n",
    "    fpr, tpr, _ = metrics.roc_curve(y_test, y_score, drop_intermediate = False, pos_label = 1)\n",
    "\n",
    "    plt.figure(1, figsize = (6,5))\n",
    "    plt.xlabel('False Positive Rate')\n",
    "    plt.ylabel('True Positive Rate')\n",
    "    plt.plot(fpr, tpr, label = clf_name)\n",
    "    plt.legend(prop={'size':11})\n",
    "plt.plot([0,1], [0,1], c = 'black')\n",
    "plt.show()"
   ]
  },
  {
   "cell_type": "code",
   "execution_count": 265,
   "metadata": {},
   "outputs": [
    {
     "data": {
      "text/html": [
       "<div>\n",
       "<style>\n",
       "    .dataframe thead tr:only-child th {\n",
       "        text-align: right;\n",
       "    }\n",
       "\n",
       "    .dataframe thead th {\n",
       "        text-align: left;\n",
       "    }\n",
       "\n",
       "    .dataframe tbody tr th {\n",
       "        vertical-align: top;\n",
       "    }\n",
       "</style>\n",
       "<table border=\"1\" class=\"dataframe\">\n",
       "  <thead>\n",
       "    <tr style=\"text-align: right;\">\n",
       "      <th></th>\n",
       "      <th>model</th>\n",
       "      <th>roc_auc_score</th>\n",
       "      <th>accuracy</th>\n",
       "    </tr>\n",
       "  </thead>\n",
       "  <tbody>\n",
       "    <tr>\n",
       "      <th>0</th>\n",
       "      <td>GradientBoosting</td>\n",
       "      <td>0.817782</td>\n",
       "      <td>0.983719</td>\n",
       "    </tr>\n",
       "    <tr>\n",
       "      <th>1</th>\n",
       "      <td>LogisticRegression</td>\n",
       "      <td>0.763485</td>\n",
       "      <td>0.983791</td>\n",
       "    </tr>\n",
       "    <tr>\n",
       "      <th>2</th>\n",
       "      <td>GaussianNB</td>\n",
       "      <td>0.729368</td>\n",
       "      <td>0.213942</td>\n",
       "    </tr>\n",
       "    <tr>\n",
       "      <th>3</th>\n",
       "      <td>RandomForest</td>\n",
       "      <td>0.556781</td>\n",
       "      <td>0.980062</td>\n",
       "    </tr>\n",
       "    <tr>\n",
       "      <th>4</th>\n",
       "      <td>SupportVectorMachine</td>\n",
       "      <td>0.579362</td>\n",
       "      <td>0.983791</td>\n",
       "    </tr>\n",
       "  </tbody>\n",
       "</table>\n",
       "</div>"
      ],
      "text/plain": [
       "                  model  roc_auc_score  accuracy\n",
       "0      GradientBoosting       0.817782  0.983719\n",
       "1    LogisticRegression       0.763485  0.983791\n",
       "2            GaussianNB       0.729368  0.213942\n",
       "3          RandomForest       0.556781  0.980062\n",
       "4  SupportVectorMachine       0.579362  0.983791"
      ]
     },
     "execution_count": 265,
     "metadata": {},
     "output_type": "execute_result"
    }
   ],
   "source": [
    "models_report"
   ]
  },
  {
   "cell_type": "code",
   "execution_count": 266,
   "metadata": {
    "collapsed": true
   },
   "outputs": [],
   "source": [
    "def plot_confusion_matrix(cm, ax, classes,\n",
    "                          normalize=False,\n",
    "                          title='Confusion matrix',\n",
    "                          cmap=plt.cm.Blues):\n",
    "    \"\"\"\n",
    "    This function prints and plots the confusion matrix.\n",
    "    Normalization can be applied by setting `normalize=True`.\n",
    "    \"\"\"\n",
    "    if normalize:\n",
    "        cm = cm.astype('float') / cm.sum(axis=1)[:, np.newaxis]\n",
    "\n",
    "    ax.imshow(cm, interpolation='nearest', cmap=cmap)\n",
    "    ax.set_title(title)\n",
    "    #ax.set_colorbar()\n",
    "    tick_marks = np.arange(len(classes))\n",
    "    ax.set_yticks(tick_marks)\n",
    "    ax.set_yticklabels(classes, rotation=35)\n",
    "\n",
    "    ax.set_xticks(tick_marks)\n",
    "    ax.set_xticklabels(classes, rotation=35)\n",
    "    \n",
    "    fmt = '.2f' if normalize else 'd'\n",
    "    thresh = cm.max() / 2.\n",
    "    for i, j in itertools.product(range(cm.shape[0]), range(cm.shape[1])):\n",
    "        ax.text(j, i, format(cm[i, j], fmt),\n",
    "                 horizontalalignment=\"center\",\n",
    "                 color=\"white\" if cm[i, j] > thresh else \"black\")\n",
    "        \n",
    "    #plt.tight_layout()\n",
    "    ax.set_ylabel('True label')\n",
    "    ax.set_xlabel('Predicted label')"
   ]
  },
  {
   "cell_type": "code",
   "execution_count": 267,
   "metadata": {},
   "outputs": [
    {
     "data": {
      "image/png": "[encoded data removed]",
      "text/plain": [
       "<matplotlib.figure.Figure at 0x13eddbe0>"
      ]
     },
     "metadata": {},
     "output_type": "display_data"
    }
   ],
   "source": [
    "import matplotlib.gridspec as gridspec\n",
    "\n",
    "fig = plt.figure(figsize=(8, 8)) \n",
    "gs = gridspec.GridSpec(2, 2)\n",
    "\n",
    "ax1 = plt.subplot(gs[0,0])\n",
    "ax2 = plt.subplot(gs[0,1])\n",
    "ax3 = plt.subplot(gs[1,0])\n",
    "ax4 = plt.subplot(gs[1,1])\n",
    "\n",
    "for c, ax in zip(conf_matrix.keys(), [ax1,ax2,ax3,ax4]):\n",
    "    plot_confusion_matrix(conf_matrix[c].values, ax, title = c, classes=['Not Approved','Approved'])\n",
    "\n",
    "plt.tight_layout()\n",
    "plt.show()\n"
   ]
  },
  {
   "cell_type": "markdown",
   "metadata": {},
   "source": [
    "### Feature Selection"
   ]
  },
  {
   "cell_type": "code",
   "execution_count": 268,
   "metadata": {},
   "outputs": [
    {
     "data": {
      "image/png": "[encoded data removed]",
      "text/plain": [
       "<matplotlib.figure.Figure at 0x1372e1d0>"
      ]
     },
     "metadata": {},
     "output_type": "display_data"
    }
   ],
   "source": [
    "fi = feature_importance\n",
    "\n",
    "fi.index = features\n",
    "fi = fi.head(22) # Take the 22 most important metrics\n",
    "fi = fi.sort_values('GradientBoosting', ascending=False)\n",
    "fi = (fi / fi.sum(axis=0)) * 100\n",
    "fi.plot.barh(title = 'Feature importances for Tree algorithms', figsize = (6,9))\n",
    "plt.show()"
   ]
  },
  {
   "cell_type": "markdown",
   "metadata": {},
   "source": [
    "# Model Fitting and Prediction"
   ]
  },
  {
   "cell_type": "code",
   "execution_count": 206,
   "metadata": {},
   "outputs": [
    {
     "data": {
      "text/plain": [
       "GradientBoostingClassifier(criterion='friedman_mse', init=None,\n",
       "              learning_rate=0.1, loss='deviance', max_depth=3,\n",
       "              max_features=None, max_leaf_nodes=None,\n",
       "              min_impurity_decrease=0.0, min_impurity_split=None,\n",
       "              min_samples_leaf=1, min_samples_split=2,\n",
       "              min_weight_fraction_leaf=0.0, n_estimators=100,\n",
       "              presort='auto', random_state=None, subsample=1.0, verbose=0,\n",
       "              warm_start=False)"
      ]
     },
     "execution_count": 206,
     "metadata": {},
     "output_type": "execute_result"
    }
   ],
   "source": [
    "\n",
    "from sklearn.ensemble import GradientBoostingClassifier\n",
    "from sklearn.metrics import classification_report, confusion_matrix, accuracy_score, roc_auc_score, precision_score, recall_score,f1_score \n",
    "\n",
    "clf = GradientBoostingClassifier() # good roc auc\n",
    "clf\n"
   ]
  },
  {
   "cell_type": "code",
   "execution_count": 186,
   "metadata": {},
   "outputs": [
    {
     "name": "stdout",
     "output_type": "stream",
     "text": [
      "The accuracy scores for the iterations are [ 0.98565794  0.98512011  0.98565794  0.98565794  0.98565537  0.98547606\n",
      "  0.98547346  0.98547346  0.98583214  0.98583214]\n",
      "The mean accuracy score is 0.9855836563968143\n"
     ]
    }
   ],
   "source": [
    "cv_scores = cross_val_score(clf,X_train, y_train, cv=10, scoring='accuracy')\n",
    "print('The accuracy scores for the iterations are {}'.format(cv_scores))\n",
    "print('The mean accuracy score is {}'.format(cv_scores.mean()))"
   ]
  },
  {
   "cell_type": "code",
   "execution_count": 187,
   "metadata": {},
   "outputs": [
    {
     "data": {
      "text/plain": [
       "GradientBoostingClassifier(criterion='friedman_mse', init=None,\n",
       "              learning_rate=0.1, loss='deviance', max_depth=3,\n",
       "              max_features=None, max_leaf_nodes=None,\n",
       "              min_impurity_decrease=0.0, min_impurity_split=None,\n",
       "              min_samples_leaf=1, min_samples_split=2,\n",
       "              min_weight_fraction_leaf=0.0, n_estimators=100,\n",
       "              presort='auto', random_state=None, subsample=1.0, verbose=0,\n",
       "              warm_start=False)"
      ]
     },
     "execution_count": 187,
     "metadata": {},
     "output_type": "execute_result"
    }
   ],
   "source": [
    "clf.fit(X_train, y_train)\n"
   ]
  },
  {
   "cell_type": "code",
   "execution_count": 188,
   "metadata": {
    "collapsed": true
   },
   "outputs": [],
   "source": [
    "y_pred = clf.predict(X_test)"
   ]
  },
  {
   "cell_type": "code",
   "execution_count": 192,
   "metadata": {},
   "outputs": [
    {
     "name": "stdout",
     "output_type": "stream",
     "text": [
      "0.983719429104\n",
      "0.562311055099\n",
      "[[13716     1]\n",
      " [  226     0]]\n"
     ]
    }
   ],
   "source": [
    "print(accuracy_score(y_test, y_pred))\n",
    "print(log_loss(y_test, y_pred))\n",
    "print(confusion_matrix(y_test, y_pred))"
   ]
  },
  {
   "cell_type": "code",
   "execution_count": 193,
   "metadata": {},
   "outputs": [
    {
     "data": {
      "text/plain": [
       "0.81778214617737444"
      ]
     },
     "execution_count": 193,
     "metadata": {},
     "output_type": "execute_result"
    }
   ],
   "source": [
    "y_pred_proba = clf.predict_proba(X_test)[:, 1]\n",
    "roc_auc_score(y_test, y_pred_proba)"
   ]
  },
  {
   "cell_type": "markdown",
   "metadata": {},
   "source": [
    "# Model Hyper-parameter Tuning"
   ]
  },
  {
   "cell_type": "code",
   "execution_count": 194,
   "metadata": {},
   "outputs": [
    {
     "data": {
      "text/plain": [
       "{'learning_rate': 0.05,\n",
       " 'max_depth': 2,\n",
       " 'min_samples_leaf': 1,\n",
       " 'n_estimators': 50}"
      ]
     },
     "execution_count": 194,
     "metadata": {},
     "output_type": "execute_result"
    }
   ],
   "source": [
    "from sklearn.model_selection import GridSearchCV\n",
    "grid_values = {'n_estimators':[50,100,200],'max_depth':[2,3,4],\n",
    "               'min_samples_leaf':[1,10,20], 'learning_rate' : [0.05, 0.1, 0.2]}\n",
    "grid_RF = GridSearchCV(clf,param_grid=grid_values,scoring='accuracy')\n",
    "grid_RF.fit(X_train, y_train)\n",
    "grid_RF.best_params_"
   ]
  },
  {
   "cell_type": "markdown",
   "metadata": {},
   "source": [
    "# Under-samling and improving model performance"
   ]
  },
  {
   "cell_type": "code",
   "execution_count": 30,
   "metadata": {},
   "outputs": [],
   "source": [
    "from imblearn.pipeline import make_pipeline\n",
    "from imblearn.under_sampling import RandomUnderSampler\n",
    "\n",
    "X_train, X_test, y_train, y_test = train_test_split(Xm, ym, stratify = ym, test_size=0.20, random_state=9)\n",
    "pipe = make_pipeline(RandomUnderSampler(), GradientBoostingClassifier(learning_rate = 0.05,max_depth= 2,min_samples_leaf = 1,n_estimators= 50))\n",
    "pipe.fit(X_train, y_train)\n",
    "y_pred = pipe.predict(X_test)"
   ]
  },
  {
   "cell_type": "code",
   "execution_count": 208,
   "metadata": {},
   "outputs": [
    {
     "name": "stdout",
     "output_type": "stream",
     "text": [
      "0.64828229219\n",
      "12.148178719\n",
      "0.034284581847\n",
      "0.848039215686\n",
      "[[8866 4873]\n",
      " [  31  173]]\n"
     ]
    }
   ],
   "source": [
    "print(accuracy_score(y_test, y_pred))\n",
    "print(log_loss(y_test, y_pred))\n",
    "print(precision_score(y_test, y_pred))\n",
    "print(recall_score(y_test, y_pred))\n",
    "print(confusion_matrix(y_test, y_pred))"
   ]
  },
  {
   "cell_type": "code",
   "execution_count": 209,
   "metadata": {},
   "outputs": [
    {
     "data": {
      "text/plain": [
       "0.81242890925931488"
      ]
     },
     "execution_count": 209,
     "metadata": {},
     "output_type": "execute_result"
    }
   ],
   "source": [
    "y_pred_proba = pipe.predict_proba(X_test)[:, 1]\n",
    "roc_auc_score(y_test, y_pred_proba)"
   ]
  }
 ],
 "metadata": {
  "kernelspec": {
   "display_name": "Python 3",
   "language": "python",
   "name": "python3"
  },
  "language_info": {
   "codemirror_mode": {
    "name": "ipython",
    "version": 3
   },
   "file_extension": ".py",
   "mimetype": "text/x-python",
   "name": "python",
   "nbconvert_exporter": "python",
   "pygments_lexer": "ipython3",
   "version": "3.6.1"
  }
 },
 "nbformat": 4,
 "nbformat_minor": 2
}
